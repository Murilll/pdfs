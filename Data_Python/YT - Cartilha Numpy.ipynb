{
 "cells": [
  {
   "cell_type": "markdown",
   "metadata": {},
   "source": [
    "# Numpy:"
   ]
  },
  {
   "cell_type": "markdown",
   "metadata": {},
   "source": [
    "Documentação : https://numpy.org/doc/stable/user/absolute_beginners.html#numpy-the-absolute-basics-for-beginners"
   ]
  },
  {
   "cell_type": "markdown",
   "metadata": {},
   "source": [
    "## Instalação:"
   ]
  },
  {
   "cell_type": "markdown",
   "metadata": {},
   "source": [
    "Insira o código abaixo no Anaconda Prompt:\n",
    "<b>pip install numpy</b>\n",
    "\n",
    "https://numpy.org/install/"
   ]
  },
  {
   "cell_type": "markdown",
   "metadata": {},
   "source": [
    "## Importação:\n",
    "https://numpy.org/doc/stable/user/absolute_beginners.html#how-to-import-numpy"
   ]
  },
  {
   "cell_type": "code",
   "execution_count": 2,
   "metadata": {},
   "outputs": [],
   "source": [
    "import numpy as np"
   ]
  },
  {
   "cell_type": "markdown",
   "metadata": {},
   "source": [
    "## O que é um array?\n",
    "Tipos de arrays:\n",
    "ndarrays -> significam arrays com N dimensões<br>\n",
    "1-D array-> Possui apenas uma dimensão. Será comumente chamado de <b> vetor ou vector </b> <br>\n",
    "2-D array -> Possui 2 dimensões. Será comumente chamado de <b> matriz ou matrix</b> <br>\n",
    "3-D ou Mais array -> Possui 3 ou mais dimensões. Será comumente chamado de <b>tensor</b> \n",
    "                                     \n",
    "https://numpy.org/doc/stable/reference/arrays.html#arrays"
   ]
  },
  {
   "cell_type": "markdown",
   "metadata": {},
   "source": [
    "## Criando um Array:"
   ]
  },
  {
   "cell_type": "markdown",
   "metadata": {},
   "source": [
    "### np.array()\n",
    "https://numpy.org/doc/stable/reference/generated/numpy.array.html?highlight=numpy%20array#numpy-array"
   ]
  },
  {
   "cell_type": "code",
   "execution_count": 9,
   "metadata": {},
   "outputs": [
    {
     "name": "stdout",
     "output_type": "stream",
     "text": [
      "[0 1 2 3 4 5 6 7 8 9]\n"
     ]
    }
   ],
   "source": [
    "My_array = np.array([0,1,2,3,4,5,6,7,8,9])\n",
    "print(My_array)"
   ]
  },
  {
   "cell_type": "markdown",
   "metadata": {},
   "source": [
    "### np.zeros()\n",
    "https://numpy.org/doc/stable/reference/generated/numpy.zeros.html"
   ]
  },
  {
   "cell_type": "code",
   "execution_count": 10,
   "metadata": {},
   "outputs": [
    {
     "name": "stdout",
     "output_type": "stream",
     "text": [
      "[[[0. 0. 0.]\n",
      "  [0. 0. 0.]\n",
      "  [0. 0. 0.]\n",
      "  [0. 0. 0.]\n",
      "  [0. 0. 0.]]\n",
      "\n",
      " [[0. 0. 0.]\n",
      "  [0. 0. 0.]\n",
      "  [0. 0. 0.]\n",
      "  [0. 0. 0.]\n",
      "  [0. 0. 0.]]]\n"
     ]
    }
   ],
   "source": [
    "Zero_arrays = np.zeros(shape = (2,5,3))  #shape = (\"Qntd_de_arrays\", linhas, colunas)\n",
    "print(Zero_arrays)"
   ]
  },
  {
   "cell_type": "markdown",
   "metadata": {},
   "source": [
    "### np.ones()\n",
    "https://numpy.org/doc/stable/reference/generated/numpy.ones.html"
   ]
  },
  {
   "cell_type": "code",
   "execution_count": 14,
   "metadata": {},
   "outputs": [
    {
     "name": "stdout",
     "output_type": "stream",
     "text": [
      "[[[1. 1. 1.]\n",
      "  [1. 1. 1.]\n",
      "  [1. 1. 1.]\n",
      "  [1. 1. 1.]\n",
      "  [1. 1. 1.]]\n",
      "\n",
      " [[1. 1. 1.]\n",
      "  [1. 1. 1.]\n",
      "  [1. 1. 1.]\n",
      "  [1. 1. 1.]\n",
      "  [1. 1. 1.]]]\n"
     ]
    }
   ],
   "source": [
    "Ones_array = np.ones((2,5,3))\n",
    "print(Ones_array)"
   ]
  },
  {
   "cell_type": "markdown",
   "metadata": {},
   "source": [
    "### no.empty()\n",
    "https://numpy.org/doc/stable/reference/generated/numpy.empty.html"
   ]
  },
  {
   "cell_type": "code",
   "execution_count": 22,
   "metadata": {},
   "outputs": [
    {
     "name": "stdout",
     "output_type": "stream",
     "text": [
      "[[6.23042070e-307 4.67296746e-307 1.69121096e-306 2.11393221e-307]\n",
      " [1.42418987e-306 1.37961641e-306 1.60220528e-306 1.24611266e-306]\n",
      " [9.34598925e-307 1.24612081e-306 1.11260755e-306 1.60220393e-306]\n",
      " [1.51320640e-306 9.34609790e-307 1.86921279e-306 1.24610723e-306]]\n"
     ]
    }
   ],
   "source": [
    "vazio = np.empty((4,4))\n",
    "print(vazio)"
   ]
  },
  {
   "cell_type": "markdown",
   "metadata": {},
   "source": [
    "### np.arange()\n",
    "https://numpy.org/doc/stable/reference/generated/numpy.arange.html"
   ]
  },
  {
   "cell_type": "code",
   "execution_count": 39,
   "metadata": {},
   "outputs": [
    {
     "name": "stdout",
     "output_type": "stream",
     "text": [
      "[ 10  20  30  40  50  60  70  80  90 100]\n"
     ]
    }
   ],
   "source": [
    "# np.arange(início, fim, passo)\n",
    "\n",
    "array = np.arange(10,101,10) \n",
    "print(array)"
   ]
  },
  {
   "cell_type": "markdown",
   "metadata": {},
   "source": [
    "### np.linspace()\n",
    "https://numpy.org/doc/stable/reference/generated/numpy.linspace.html"
   ]
  },
  {
   "cell_type": "code",
   "execution_count": 46,
   "metadata": {},
   "outputs": [
    {
     "name": "stdout",
     "output_type": "stream",
     "text": [
      "[  0.  25.  50.  75. 100.]\n"
     ]
    }
   ],
   "source": [
    "# np.linspace(início, fim, Qntd de Números entre início e fim)\n",
    "\n",
    "array_linear = np.linspace(0,100,5,endpoint=True) # endpoint = True: Inclui o valor do fim, como padrão é falso\n",
    "print(array_linear)"
   ]
  },
  {
   "cell_type": "code",
   "execution_count": 45,
   "metadata": {},
   "outputs": [
    {
     "name": "stdout",
     "output_type": "stream",
     "text": [
      "(array([  0.,  25.,  50.,  75., 100.]), 25.0)\n"
     ]
    }
   ],
   "source": [
    "array_linear = np.linspace(0,100,5,retstep = True) # retstep = True: Mostra o intervalo entre os Números, como padrão é falso\n",
    "print(array_linear)"
   ]
  },
  {
   "cell_type": "markdown",
   "metadata": {},
   "source": [
    "## Descobrindo o tamanho de um array:\n",
    "Número de dimensões : https://numpy.org/doc/stable/reference/generated/numpy.ndarray.ndim.html <br>\n",
    "Número de items: https://numpy.org/doc/stable/reference/generated/numpy.ndarray.size.html\n",
    "Formato : https://numpy.org/doc/stable/reference/generated/numpy.ndarray.shape.html\n"
   ]
  },
  {
   "cell_type": "code",
   "execution_count": 67,
   "metadata": {},
   "outputs": [
    {
     "name": "stdout",
     "output_type": "stream",
     "text": [
      "[[[1. 1. 1.]\n",
      "  [1. 1. 1.]\n",
      "  [1. 1. 1.]\n",
      "  [1. 1. 1.]\n",
      "  [1. 1. 1.]]]\n"
     ]
    }
   ],
   "source": [
    "Ones_array = np.ones((1,5,3))\n",
    "print(Ones_array)"
   ]
  },
  {
   "cell_type": "code",
   "execution_count": 69,
   "metadata": {},
   "outputs": [
    {
     "name": "stdout",
     "output_type": "stream",
     "text": [
      "Descrição: (1, 5, 3)\n",
      "Qntd de Valores: 15\n",
      "Dimensões(Tamanho da Descrição): 3\n"
     ]
    }
   ],
   "source": [
    "print(\"Descrição:\",Ones_array.shape) # Descrição\n",
    "print(\"Qntd de Valores:\",Ones_array.size) # Qntd_de_valores \n",
    "print(\"Dimensões(Tamanho da Descrição):\",Ones_array.ndim) # Dimensões"
   ]
  },
  {
   "cell_type": "markdown",
   "metadata": {},
   "source": [
    "### Mudando o tamanho de um array:\n",
    "\n",
    "https://numpy.org/doc/stable/reference/generated/numpy.reshape.html"
   ]
  },
  {
   "cell_type": "markdown",
   "metadata": {},
   "source": [
    "### Rankeando um array:"
   ]
  },
  {
   "cell_type": "markdown",
   "metadata": {},
   "source": [
    "https://numpy.org/doc/stable/reference/generated/numpy.sort.html"
   ]
  },
  {
   "cell_type": "markdown",
   "metadata": {},
   "source": [
    "## Transformando um Vetor (1-D) em uma matrix(2-D)\n",
    ".newaxis:https://numpy.org/doc/stable/reference/constants.html?#numpy.newaxis <br>\n",
    ".expand_dims:https://numpy.org/doc/stable/reference/generated/numpy.expand_dims.html#numpy.expand_dims"
   ]
  },
  {
   "cell_type": "code",
   "execution_count": 70,
   "metadata": {},
   "outputs": [
    {
     "name": "stdout",
     "output_type": "stream",
     "text": [
      "1\n"
     ]
    }
   ],
   "source": [
    "My_array = np.array([1,2,3])\n",
    "print(My_array.ndim)"
   ]
  },
  {
   "cell_type": "code",
   "execution_count": 72,
   "metadata": {},
   "outputs": [
    {
     "name": "stdout",
     "output_type": "stream",
     "text": [
      "(1, 3)\n",
      "2\n",
      "[[1 2 3]]\n"
     ]
    }
   ],
   "source": [
    "My_array2 = My_array[np.newaxis,:] #np.newaxis: Cria um novo eixo \n",
    "print(My_array2.shape)\n",
    "print(My_array2.ndim)\n",
    "print(My_array2)"
   ]
  },
  {
   "cell_type": "markdown",
   "metadata": {},
   "source": [
    "### Concatenando arrays:\n",
    "https://numpy.org/doc/stable/reference/generated/numpy.concatenate.html"
   ]
  },
  {
   "cell_type": "code",
   "execution_count": 76,
   "metadata": {},
   "outputs": [
    {
     "name": "stdout",
     "output_type": "stream",
     "text": [
      "[1 2 3 4 5 6]\n",
      "[4 5 6 1 2 3]\n"
     ]
    }
   ],
   "source": [
    "teste1 = np.array([1,2,3])\n",
    "teste2 = np.array([4,5,6])\n",
    "\n",
    "final = np.concatenate((teste1,teste2))\n",
    "print(final)\n",
    "\n",
    "final2= np.concatenate((teste2,teste1))\n",
    "print(final2)"
   ]
  },
  {
   "cell_type": "markdown",
   "metadata": {},
   "source": [
    "### Consultando itens de uma array:\n",
    "https://numpy.org/doc/stable/user/absolute_beginners.html#indexing-and-slicing"
   ]
  },
  {
   "cell_type": "code",
   "execution_count": 80,
   "metadata": {},
   "outputs": [
    {
     "name": "stdout",
     "output_type": "stream",
     "text": [
      "[[ 1  2  3  4]\n",
      " [ 5  6  7  8]\n",
      " [ 9 10 11 12]]\n",
      "\n",
      " [ 9 10 11 12]\n"
     ]
    }
   ],
   "source": [
    "Teste1 = np.array([[1,2,3,4],[5,6,7,8], [9,10,11,12]])\n",
    "print(Teste1)\n",
    "\n",
    "Maior_8 = Teste1[Teste1>8]\n",
    "print(\"\\n\",Maior_8)"
   ]
  },
  {
   "cell_type": "markdown",
   "metadata": {},
   "source": [
    "### Operações com Arrays:\n",
    "Soma : https://numpy.org/doc/stable/reference/generated/numpy.sum.html#numpy.sum <br>\n",
    "Valor mínimo : https://numpy.org/doc/stable/reference/generated/numpy.ndarray.min.html<br>\n",
    "Valor máximo : https://numpy.org/doc/stable/reference/generated/numpy.ndarray.max.html<br>\n",
    "Média : https://numpy.org/doc/stable/reference/generated/numpy.ndarray.mean.html"
   ]
  },
  {
   "cell_type": "code",
   "execution_count": 88,
   "metadata": {},
   "outputs": [
    {
     "name": "stdout",
     "output_type": "stream",
     "text": [
      "[1 2 3 4]\n",
      "Soma: 10\n",
      "Valor_Mínimo: 1\n",
      "Valor_Máximo: 4\n",
      "Média: 2.5\n"
     ]
    }
   ],
   "source": [
    "teste1=np.array([1,2,3,4])\n",
    "print(teste1)\n",
    "print(\"Soma:\",sum(teste1)) #Soma\n",
    "print(\"Valor_Mínimo:\",min(teste1)) #Valor_Mínimp\n",
    "print(\"Valor_Máximo:\",max(teste1)) #Valor_Máximo\n",
    "print(\"Média:\",teste1.mean()) #Média\n",
    "\n",
    "\n"
   ]
  },
  {
   "cell_type": "markdown",
   "metadata": {},
   "source": [
    "### Gerando amostras aleatórias:\n"
   ]
  },
  {
   "cell_type": "code",
   "execution_count": 92,
   "metadata": {},
   "outputs": [],
   "source": [
    "from numpy.random import default_rng"
   ]
  },
  {
   "cell_type": "code",
   "execution_count": 96,
   "metadata": {},
   "outputs": [
    {
     "name": "stdout",
     "output_type": "stream",
     "text": [
      "[[ 7 21  6 18]\n",
      " [28 10 21  3]\n",
      " [ 5 23 19  9]\n",
      " [29  5 28 14]]\n"
     ]
    }
   ],
   "source": [
    "#Array com Números Aleatórios\n",
    "\n",
    "rng = default_rng()\n",
    "Aleatorio = rng.integers(30, size=(4,4)) #rng.integers(Número_Máximo, size = (linhas,colunas)) \n",
    "print(Aleatorio)"
   ]
  },
  {
   "cell_type": "markdown",
   "metadata": {},
   "source": [
    "## Diferença entre Arrays e Listas:"
   ]
  },
  {
   "cell_type": "code",
   "execution_count": 100,
   "metadata": {},
   "outputs": [
    {
     "name": "stdout",
     "output_type": "stream",
     "text": [
      "['1' '2' '3' '4' 'Lucas' '5' '6' '7' '8']\n",
      "<class 'numpy.ndarray'> \n",
      "\n",
      "[1, 2, 3, 4, 'Lucas', 5, 6, 7, 8]\n",
      "<class 'list'>\n"
     ]
    }
   ],
   "source": [
    "#Array\n",
    "Array = np.array([1,2,3,4,\"Lucas\",5,6,7,8])  # Array não permite dados diferentes\n",
    "print(Array)\n",
    "print(type(Array),\"\\n\")\n",
    "\n",
    "#Lista\n",
    "Lista = [1,2,3,4,\"Lucas\",5,6,7,8]  # Já a lista sim\n",
    "print(Lista)\n",
    "print(type(Lista))\n"
   ]
  },
  {
   "cell_type": "markdown",
   "metadata": {},
   "source": [
    "## Comparando o processamento:"
   ]
  },
  {
   "cell_type": "code",
   "execution_count": 113,
   "metadata": {},
   "outputs": [],
   "source": [
    "from time import process_time"
   ]
  },
  {
   "cell_type": "code",
   "execution_count": 120,
   "metadata": {},
   "outputs": [
    {
     "name": "stdout",
     "output_type": "stream",
     "text": [
      "Tempo de Cálculo com Lista: 5.53125\n"
     ]
    }
   ],
   "source": [
    "#Cálculo com Listas\n",
    "\n",
    "Lista1 = list(rng.integers(10,100,10000000))\n",
    "Lista2 = list(rng.integers(10,100,10000000))\n",
    "Lista_Cal=[]\n",
    "\n",
    "\n",
    "Tempo1=process_time()\n",
    "for i in range(len(Lista1)):\n",
    "    Lista_Cal.append(Lista1[i]*Lista2[i])\n",
    "Tempo2=process_time()\n",
    "print(\"Tempo de Cálculo com Lista:\",Tempo2 - Tempo1)\n"
   ]
  },
  {
   "cell_type": "code",
   "execution_count": 124,
   "metadata": {},
   "outputs": [
    {
     "name": "stdout",
     "output_type": "stream",
     "text": [
      "Tempo de Cálculo com Array: 0.046875\n"
     ]
    }
   ],
   "source": [
    "#Cálculo com Arrays\n",
    "\n",
    "Array1 = rng.integers(10,100,10000000)\n",
    "Array2 = rng.integers(10,100,10000000)\n",
    "\n",
    "\n",
    "Tempo1 = process_time()\n",
    "Cal = np.multiply(Array1,Array2)\n",
    "Tempo2= process_time() \n",
    "print(\"Tempo de Cálculo com Array:\",Tempo2 - Tempo1)\n"
   ]
  },
  {
   "cell_type": "code",
   "execution_count": 128,
   "metadata": {},
   "outputs": [],
   "source": [
    "import matplotlib.pyplot as plt"
   ]
  },
  {
   "cell_type": "code",
   "execution_count": 132,
   "metadata": {},
   "outputs": [
    {
     "data": {
      "image/png": "[encoded data removed]",
      "text/plain": [
       "<Figure size 432x288 with 1 Axes>"
      ]
     },
     "metadata": {
      "needs_background": "light"
     },
     "output_type": "display_data"
    }
   ],
   "source": [
    "Dados_x = rng.integers(20, size=10)\n",
    "Dados_y = rng.integers(20, size=10)\n",
    "\n",
    "plt.scatter(x = Dados_x , y = Dados_y)\n",
    "plt.show()"
   ]
  }
 ],
 "metadata": {
  "kernelspec": {
   "display_name": "Python 3 (ipykernel)",
   "language": "python",
   "name": "python3"
  },
  "language_info": {
   "codemirror_mode": {
    "name": "ipython",
    "version": 3
   },
   "file_extension": ".py",
   "mimetype": "text/x-python",
   "name": "python",
   "nbconvert_exporter": "python",
   "pygments_lexer": "ipython3",
   "version": "3.9.12"
  }
 },
 "nbformat": 4,
 "nbformat_minor": 4
}
