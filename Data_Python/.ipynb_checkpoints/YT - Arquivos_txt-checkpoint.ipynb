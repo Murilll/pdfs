{
 "cells": [
  {
   "cell_type": "markdown",
   "id": "441899aa",
   "metadata": {},
   "source": [
    "# Python e Arquivos de texto (.txt)\n",
    "\n",
    "- Use sempre a estrutura With"
   ]
  },
  {
   "cell_type": "markdown",
   "id": "2d20f181",
   "metadata": {},
   "source": [
    "### Formas de abrir um arquivo de texto"
   ]
  },
  {
   "cell_type": "markdown",
   "id": "b1f4e1e6",
   "metadata": {},
   "source": [
    "- \"r\" -> read -> ler"
   ]
  },
  {
   "cell_type": "code",
   "execution_count": 35,
   "id": "53008492",
   "metadata": {},
   "outputs": [
    {
     "name": "stdout",
     "output_type": "stream",
     "text": [
      "Prezados,\n",
      "\n",
      "O faturamento desse mês foi de: R$15.000\n",
      "\n",
      "Qualquer dúvida que tiverem, é só falar.\n",
      "\n",
      "Att.,\n",
      "Lira\n"
     ]
    }
   ],
   "source": [
    "# read -> para arquivos simples(ex: senhas, tokens informações únicas)\n",
    "with open(\"data/mensagem.txt\",\"r\",encoding=\"utf-8\") as arquivo: #encoding=\"utf-8: Serve para arrumar os acentos\"\n",
    "    msg= arquivo.read()\n",
    "    print(msg)"
   ]
  },
  {
   "cell_type": "code",
   "execution_count": 36,
   "id": "075dd260",
   "metadata": {},
   "outputs": [
    {
     "name": "stdout",
     "output_type": "stream",
     "text": [
      "['Prezados,\\n', '\\n', 'O faturamento desse mês foi de: R$15.000\\n', '\\n', 'Qualquer dúvida que tiverem, é só falar.\\n', '\\n', 'Att.,\\n', 'Lira']\n"
     ]
    }
   ],
   "source": [
    "# readlines -> para arquivos maiores\n",
    "with open(\"data/mensagem.txt\",\"r\",encoding=\"utf-8\") as arquivo:\n",
    "    msg = arquivo.readlines()\n",
    "    print(msg)"
   ]
  },
  {
   "cell_type": "markdown",
   "id": "53f75e99",
   "metadata": {},
   "source": [
    "- \"w\" -> write -> escrever"
   ]
  },
  {
   "cell_type": "code",
   "execution_count": 44,
   "id": "0bf26c38",
   "metadata": {},
   "outputs": [
    {
     "name": "stdout",
     "output_type": "stream",
     "text": [
      "123345\n"
     ]
    }
   ],
   "source": [
    "# \"w\" para subscrever o arquivo\n",
    "\n",
    "# Alterando Senha\n",
    "with open(\"data/senha.txt\",\"w\") as arquivo:\n",
    "    senha=arquivo.write(\"123345\")\n",
    "    \n",
    "# Mostrando Senha:\n",
    "with open(\"data/senha.txt\",\"r\") as arquivo:\n",
    "    show=arquivo.read()\n",
    "    print(show)"
   ]
  },
  {
   "cell_type": "markdown",
   "id": "14fcf35d",
   "metadata": {},
   "source": [
    "- \"a\" -> append -> adicionar"
   ]
  },
  {
   "cell_type": "code",
   "execution_count": 56,
   "id": "1e6d2b3f",
   "metadata": {},
   "outputs": [
    {
     "name": "stdout",
     "output_type": "stream",
     "text": [
      "\n",
      "Novoemail1@gmail.com\n",
      "Novoemail2@gmail.com\n",
      "Novoemail3@gmail.com\n"
     ]
    }
   ],
   "source": [
    "# Add informações, sem apagar o que já estava escrito\n",
    "with open(\"data/email.txt\",\"a\") as arquivo:\n",
    "    email=arquivo.write(\"\\nNovoemail3@gmail.com\") # caso não utilize o \\n, os dados vão concatenar\n",
    "\n",
    "# Mostrando Email:\n",
    "with open(\"data/email.txt\",\"r\") as arquivo:\n",
    "    show=arquivo.read()\n",
    "    print(show)\n",
    "    "
   ]
  }
 ],
 "metadata": {
  "kernelspec": {
   "display_name": "Python 3 (ipykernel)",
   "language": "python",
   "name": "python3"
  },
  "language_info": {
   "codemirror_mode": {
    "name": "ipython",
    "version": 3
   },
   "file_extension": ".py",
   "mimetype": "text/x-python",
   "name": "python",
   "nbconvert_exporter": "python",
   "pygments_lexer": "ipython3",
   "version": "3.9.12"
  }
 },
 "nbformat": 4,
 "nbformat_minor": 5
}
